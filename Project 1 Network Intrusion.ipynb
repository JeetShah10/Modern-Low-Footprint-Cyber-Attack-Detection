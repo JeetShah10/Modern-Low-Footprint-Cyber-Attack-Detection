{
 "cells": [
  {
   "cell_type": "markdown",
   "metadata": {},
   "source": [
    "# Mini-Project 1: Modern Low Footprint Cyber Attack Detection\n",
    "\n",
    "### CSC 215-01 Artificial Intelligence (Fall 2019)\n",
    "\n",
    "### Team member : \n",
    "    1) Ayushi Vadwala\n",
    "    2) Jeet Shah\n",
    "\n",
    "### Problem Formulation :   \n",
    "    Software to detect network intrusions protects a computer network from unauthorized users, including perhaps insiders. This project aims to build a network intrusion detector, a predictive model capable of distinguishing between bad connections, called intrusions or attacks, and good normal connections.Model this problem as a BINARY classification problem. Use the following models to detect bad connections (intrusions).\n",
    "            \n",
    "### Models used to predict bad intrusions : \n",
    "    • Logistic Regression\n",
    "    • Nearest Neighbor\n",
    "    • Support Vector Machine\n",
    "    • Fully-Connected Neural Networks"
   ]
  },
  {
   "cell_type": "code",
   "execution_count": 1,
   "metadata": {},
   "outputs": [],
   "source": [
    "import collections\n",
    "from sklearn import preprocessing\n",
    "import matplotlib.pyplot as plt\n",
    "import numpy as np\n",
    "import pandas as pd\n",
    "import shutil\n",
    "import os\n",
    "\n",
    "\n",
    "# Encode text values to dummy variables(i.e. [1,0,0],[0,1,0],[0,0,1] for red,green,blue)\n",
    "def encode_text_dummy(df, name):\n",
    "    dummies = pd.get_dummies(df[name])\n",
    "    for x in dummies.columns:\n",
    "        dummy_name = \"{}-{}\".format(name, x)\n",
    "        df[dummy_name] = dummies[x]\n",
    "    df.drop(name, axis=1, inplace=True)\n",
    "\n",
    "# Encode text values to indexes(i.e. [1],[2],[3] for red,green,blue).\n",
    "def encode_text_index(df, name):\n",
    "    le = preprocessing.LabelEncoder()\n",
    "    df[name] = le.fit_transform(df[name])\n",
    "    return le.classes_\n",
    "\n",
    "# Encode a numeric column as zscores\n",
    "def encode_numeric_zscore(df, name, mean=None, sd=None):\n",
    "    if mean is None:\n",
    "        mean = df[name].mean()\n",
    "\n",
    "    if sd is None:\n",
    "        sd = df[name].std()\n",
    "\n",
    "    df[name] = (df[name] - mean) / sd\n",
    "\n",
    "# Convert a Pandas dataframe to the x,y inputs that TensorFlow needs\n",
    "def to_xy(df, target):\n",
    "    result = []\n",
    "    for x in df.columns:\n",
    "        if x != target:\n",
    "            result.append(x)\n",
    "    # find out the type of the target column. \n",
    "    target_type = df[target].dtypes\n",
    "    target_type = target_type[0] if isinstance(target_type, collections.Sequence) else target_type\n",
    "    # Encode to int for classification, float otherwise. TensorFlow likes 32 bits.\n",
    "    if target_type in (np.int64, np.int32):\n",
    "        #Classification\n",
    "        dummies = pd.get_dummies(df[target])\n",
    "        return df[result].values.astype(np.float32), dummies.values.astype(np.float32)\n",
    "    else:\n",
    "        #Regression\n",
    "        return df[result].values.astype(np.float32), df[target].values.astype(np.float32)\n"
   ]
  },
  {
   "cell_type": "code",
   "execution_count": 2,
   "metadata": {},
   "outputs": [],
   "source": [
    "%matplotlib inline\n",
    "from sklearn.metrics import roc_curve, auc\n",
    "\n",
    "# Plot a confusion matrix.\n",
    "# cm is the confusion matrix, names are the names of the classes.\n",
    "def plot_confusion_matrix(cm, names, title='Confusion matrix', cmap=plt.cm.Blues):\n",
    "    plt.imshow(cm, interpolation='nearest', cmap=cmap)\n",
    "    plt.title(title)\n",
    "    plt.colorbar()\n",
    "    tick_marks = np.arange(len(names))\n",
    "    plt.xticks(tick_marks, names, rotation=45)\n",
    "    plt.yticks(tick_marks, names)\n",
    "    plt.tight_layout()\n",
    "    plt.ylabel('True label')\n",
    "    plt.xlabel('Predicted label')\n",
    "    \n",
    "\n",
    "# Plot an ROC. pred - the predictions, y - the expected output.\n",
    "def plot_roc(pred,y):\n",
    "    fpr, tpr, thresholds = roc_curve(y, pred)\n",
    "    roc_auc = auc(fpr, tpr)\n",
    "\n",
    "    plt.figure()\n",
    "    plt.plot(fpr, tpr, label='ROC curve (area = %0.2f)' % roc_auc)\n",
    "    plt.plot([0, 1], [0, 1], 'k--')\n",
    "    plt.xlim([0.0, 1.0])\n",
    "    plt.ylim([0.0, 1.05])\n",
    "    plt.xlabel('False Positive Rate')\n",
    "    plt.ylabel('True Positive Rate')\n",
    "    plt.title('Receiver Operating Characteristic (ROC)')\n",
    "    plt.legend(loc=\"lower right\")\n",
    "    plt.show()"
   ]
  },
  {
   "cell_type": "markdown",
   "metadata": {},
   "source": [
    "#### Load training and testing data into pandas dataframe"
   ]
  },
  {
   "cell_type": "code",
   "execution_count": 3,
   "metadata": {},
   "outputs": [],
   "source": [
    "import pandas as pd\n",
    "\n",
    "train_df = pd.read_csv('data/UNSW_NB15_training-set_csc215.csv')\n",
    "test_df = pd.read_csv('data/UNSW_NB15_test-set_csc215.csv')"
   ]
  },
  {
   "cell_type": "markdown",
   "metadata": {},
   "source": [
    "#### After examining train and test dataset drop columns which has missing values and has nothing to do with to be predicted target"
   ]
  },
  {
   "cell_type": "code",
   "execution_count": 4,
   "metadata": {},
   "outputs": [],
   "source": [
    "train_df.drop(['id','service','attack_cat', 'swin'], axis=1, inplace=True)\n",
    "test_df.drop(['id','service','attack_cat', 'swin'], axis=1, inplace=True)\n"
   ]
  },
  {
   "cell_type": "markdown",
   "metadata": {},
   "source": [
    "## Detecting OUTLIERS in Dataset\n",
    "\n",
    "- #### As the values of column \"proto\" has more values of 'tcp', 'udp' and 'unas' in both training and testing dataset compared to others, others might not have more impact on target compare to 'tcp', 'udp' and 'unas' or they may be OUTLIERS. So, combine all other values except 'tcp', 'udp' and 'unas' into value called others and drop rows of that values."
   ]
  },
  {
   "cell_type": "code",
   "execution_count": 5,
   "metadata": {},
   "outputs": [
    {
     "data": {
      "text/plain": [
       "tcp            79946\n",
       "udp            63283\n",
       "unas           12084\n",
       "arp             2859\n",
       "ospf            2595\n",
       "sctp            1150\n",
       "any              300\n",
       "gre              225\n",
       "ipv6             201\n",
       "swipe            201\n",
       "pim              201\n",
       "sun-nd           201\n",
       "mobile           201\n",
       "rsvp             200\n",
       "sep              193\n",
       "ib               101\n",
       "smp              100\n",
       "gmtp             100\n",
       "compaq-peer      100\n",
       "iatp             100\n",
       "wb-mon           100\n",
       "iplt             100\n",
       "aris             100\n",
       "cpnx             100\n",
       "cphb             100\n",
       "mhrp             100\n",
       "secure-vmtp      100\n",
       "sat-expak        100\n",
       "sm               100\n",
       "idrp             100\n",
       "               ...  \n",
       "prm               99\n",
       "leaf-2            99\n",
       "iso-tp4           99\n",
       "mux               99\n",
       "trunk-1           99\n",
       "ip                99\n",
       "pup               99\n",
       "xnet              99\n",
       "leaf-1            99\n",
       "cbt               99\n",
       "chaos             99\n",
       "emcon             99\n",
       "nvp               99\n",
       "xns-idp           99\n",
       "trunk-2           99\n",
       "dcn               99\n",
       "irtp              99\n",
       "igp               99\n",
       "ipnip             99\n",
       "st2               99\n",
       "crtp              99\n",
       "egp               98\n",
       "netblt            98\n",
       "rdp               98\n",
       "argus             98\n",
       "hmp               98\n",
       "bbn-rcc           98\n",
       "igmp              18\n",
       "icmp              15\n",
       "rtp                1\n",
       "Name: proto, Length: 133, dtype: int64"
      ]
     },
     "execution_count": 5,
     "metadata": {},
     "output_type": "execute_result"
    }
   ],
   "source": [
    "train_df['proto'].value_counts()"
   ]
  },
  {
   "cell_type": "code",
   "execution_count": 6,
   "metadata": {},
   "outputs": [
    {
     "data": {
      "text/plain": [
       "tcp            43095\n",
       "udp            29418\n",
       "unas            3515\n",
       "arp              987\n",
       "ospf             676\n",
       "sctp             324\n",
       "any               96\n",
       "gre               88\n",
       "rsvp              64\n",
       "ipv6              61\n",
       "sep               58\n",
       "sun-nd            54\n",
       "pim               52\n",
       "mobile            52\n",
       "swipe             52\n",
       "bbn-rcc           34\n",
       "leaf-1            34\n",
       "prm               34\n",
       "xns-idp           34\n",
       "ip                33\n",
       "leaf-2            33\n",
       "iso-tp4           33\n",
       "nvp               33\n",
       "egp               33\n",
       "hmp               33\n",
       "dcn               33\n",
       "st2               33\n",
       "irtp              33\n",
       "igp               33\n",
       "mux               33\n",
       "               ...  \n",
       "sm                32\n",
       "ptp               32\n",
       "compaq-peer       32\n",
       "zero              32\n",
       "iatp              32\n",
       "vrrp              32\n",
       "a/n               32\n",
       "ipv6-no           32\n",
       "mtp               32\n",
       "nsfnet-igp        32\n",
       "ipx-n-ip          32\n",
       "sprite-rpc        32\n",
       "bna               32\n",
       "ddx               32\n",
       "pipe              32\n",
       "ipcv              32\n",
       "br-sat-mon        32\n",
       "sps               32\n",
       "iso-ip            32\n",
       "ddp               32\n",
       "sat-mon           32\n",
       "qnx               32\n",
       "uti               32\n",
       "vmtp              32\n",
       "etherip           32\n",
       "stp               32\n",
       "wb-mon            32\n",
       "srp               32\n",
       "ib                31\n",
       "igmp              30\n",
       "Name: proto, Length: 131, dtype: int64"
      ]
     },
     "execution_count": 6,
     "metadata": {},
     "output_type": "execute_result"
    }
   ],
   "source": [
    "test_df['proto'].value_counts()"
   ]
  },
  {
   "cell_type": "code",
   "execution_count": 7,
   "metadata": {},
   "outputs": [],
   "source": [
    "considered_list = ['tcp', 'udp', 'unas']"
   ]
  },
  {
   "cell_type": "code",
   "execution_count": 8,
   "metadata": {},
   "outputs": [],
   "source": [
    "def func_proto_encoding(column_value):\n",
    "    if column_value in considered_list:\n",
    "        return column_value\n",
    "    else:\n",
    "        return \"others\""
   ]
  },
  {
   "cell_type": "code",
   "execution_count": 9,
   "metadata": {},
   "outputs": [],
   "source": [
    "train_df['proto'] = train_df['proto'].apply(func_proto_encoding)"
   ]
  },
  {
   "cell_type": "code",
   "execution_count": 10,
   "metadata": {},
   "outputs": [],
   "source": [
    "test_df['proto'] = test_df['proto'].apply(func_proto_encoding)"
   ]
  },
  {
   "cell_type": "code",
   "execution_count": 11,
   "metadata": {},
   "outputs": [],
   "source": [
    "train_df = train_df[train_df['proto'] != 'others']\n",
    "test_df = test_df[test_df['proto'] != \"others\"]"
   ]
  },
  {
   "cell_type": "code",
   "execution_count": 12,
   "metadata": {},
   "outputs": [
    {
     "name": "stdout",
     "output_type": "stream",
     "text": [
      "tcp     79946\n",
      "udp     63283\n",
      "unas    12084\n",
      "Name: proto, dtype: int64\n",
      "tcp     43095\n",
      "udp     29418\n",
      "unas     3515\n",
      "Name: proto, dtype: int64\n"
     ]
    }
   ],
   "source": [
    "print(train_df['proto'].value_counts())\n",
    "print(test_df['proto'].value_counts())"
   ]
  },
  {
   "cell_type": "markdown",
   "metadata": {},
   "source": [
    "- **As the values of the *state* attribute mismatch in both train and test dataset, it might create issues while encoding them using one-hot encoding because of shape mismatch. Hence, we will be keeping the top 4 states in the data and will remove the rest. THEY ARE OUTLIERS.**"
   ]
  },
  {
   "cell_type": "code",
   "execution_count": 13,
   "metadata": {},
   "outputs": [
    {
     "data": {
      "text/plain": [
       "FIN    77825\n",
       "INT    63707\n",
       "CON    12532\n",
       "REQ     1166\n",
       "RST       83\n",
       "Name: state, dtype: int64"
      ]
     },
     "execution_count": 13,
     "metadata": {},
     "output_type": "execute_result"
    }
   ],
   "source": [
    "train_df['state'].value_counts()"
   ]
  },
  {
   "cell_type": "code",
   "execution_count": 14,
   "metadata": {},
   "outputs": [
    {
     "data": {
      "text/plain": [
       "FIN    39339\n",
       "INT    28191\n",
       "CON     6802\n",
       "REQ     1690\n",
       "ACC        4\n",
       "RST        1\n",
       "CLO        1\n",
       "Name: state, dtype: int64"
      ]
     },
     "execution_count": 14,
     "metadata": {},
     "output_type": "execute_result"
    }
   ],
   "source": [
    "test_df['state'].value_counts()"
   ]
  },
  {
   "cell_type": "code",
   "execution_count": 15,
   "metadata": {},
   "outputs": [],
   "source": [
    "considered_state_list = ['INT', 'FIN', 'CON', 'REQ']"
   ]
  },
  {
   "cell_type": "code",
   "execution_count": 16,
   "metadata": {},
   "outputs": [],
   "source": [
    "train_df_v1 = train_df[train_df['state'].isin(considered_state_list)]"
   ]
  },
  {
   "cell_type": "code",
   "execution_count": 17,
   "metadata": {},
   "outputs": [],
   "source": [
    "test_df_v1 = test_df[test_df['state'].isin(considered_state_list)]"
   ]
  },
  {
   "cell_type": "code",
   "execution_count": 18,
   "metadata": {},
   "outputs": [
    {
     "data": {
      "text/plain": [
       "(155230, 41)"
      ]
     },
     "execution_count": 18,
     "metadata": {},
     "output_type": "execute_result"
    }
   ],
   "source": [
    "train_df_v1.shape"
   ]
  },
  {
   "cell_type": "code",
   "execution_count": 19,
   "metadata": {},
   "outputs": [
    {
     "data": {
      "text/plain": [
       "(76022, 41)"
      ]
     },
     "execution_count": 19,
     "metadata": {},
     "output_type": "execute_result"
    }
   ],
   "source": [
    "test_df_v1.shape"
   ]
  },
  {
   "cell_type": "markdown",
   "metadata": {},
   "source": [
    "### One-hot encoding\n",
    "\n",
    "Encoding the categorical variables proto and state (In seq: Train and Test)"
   ]
  },
  {
   "cell_type": "code",
   "execution_count": 20,
   "metadata": {},
   "outputs": [],
   "source": [
    "import warnings\n",
    "warnings.filterwarnings('ignore')"
   ]
  },
  {
   "cell_type": "code",
   "execution_count": 21,
   "metadata": {},
   "outputs": [],
   "source": [
    "encode_text_dummy(train_df_v1,\"proto\")  \n",
    "encode_text_dummy(train_df_v1,\"state\")\n",
    "\n",
    "encode_text_dummy(test_df_v1,\"proto\")  \n",
    "encode_text_dummy(test_df_v1,\"state\")"
   ]
  },
  {
   "cell_type": "markdown",
   "metadata": {},
   "source": [
    "### More data preprocessing using Correlation between each feature and target\n",
    "\n",
    "- **Correlation is obtained by dividing the covariance of the two variables by the product of their standard deviations**\n",
    "\n",
    "### $ Correlation(x,y) = (Covariance(x,y)) / Sx * Sy $\n",
    "                      \n",
    "### $                  = (E[x*y] - E[x]*E[y]) / Sx * Sy $\n",
    "\n",
    "where, E = Total sum, Sx = Standard Deviation of x, Sy = Standard Deviation of y\n",
    "\n",
    "- We have used pandas defined corr() to find correlation and it returns series\n",
    "\n",
    "- The correlation of a variable with itself is 1. So, which column has correlation value near to 1 has more impact on target column. Hence, we will keep columns which has correlation greater than 0.05 and will drop\n",
    "others."
   ]
  },
  {
   "cell_type": "code",
   "execution_count": 22,
   "metadata": {
    "scrolled": true
   },
   "outputs": [
    {
     "name": "stdout",
     "output_type": "stream",
     "text": [
      "['dur', 'spkts', 'dpkts', 'sbytes', 'dbytes', 'dload', 'sloss', 'dloss', 'sinpkt', 'dinpkt', 'sjit', 'djit', 'stcpb', 'dtcpb', 'dwin', 'smean', 'dmean', 'trans_depth', 'response_body_len', 'is_ftp_login', 'ct_ftp_cmd', 'ct_flw_http_mthd', 'is_sm_ips_ports', 'proto-tcp', 'state-CON', 'state-FIN', 'state-REQ']\n"
     ]
    }
   ],
   "source": [
    "correlation_list = train_df_v1[train_df_v1.columns[:]].corr()['label']\n",
    "\n",
    "correlation_list = [col for col in correlation_list.index if correlation_list[col] < 0.05]\n",
    "print(correlation_list)"
   ]
  },
  {
   "cell_type": "code",
   "execution_count": 23,
   "metadata": {},
   "outputs": [],
   "source": [
    "train_df_v2 = train_df_v1.drop(correlation_list, axis = 1)\n",
    "test_df_v2 = test_df_v1.drop(correlation_list, axis = 1)"
   ]
  },
  {
   "cell_type": "code",
   "execution_count": 24,
   "metadata": {},
   "outputs": [
    {
     "data": {
      "text/plain": [
       "(155230, 19)"
      ]
     },
     "execution_count": 24,
     "metadata": {},
     "output_type": "execute_result"
    }
   ],
   "source": [
    "train_df_v2.shape"
   ]
  },
  {
   "cell_type": "code",
   "execution_count": 25,
   "metadata": {},
   "outputs": [
    {
     "data": {
      "text/plain": [
       "(76022, 19)"
      ]
     },
     "execution_count": 25,
     "metadata": {},
     "output_type": "execute_result"
    }
   ],
   "source": [
    "test_df_v2.shape"
   ]
  },
  {
   "cell_type": "markdown",
   "metadata": {},
   "source": [
    "#### Splitting the data into X and y"
   ]
  },
  {
   "cell_type": "code",
   "execution_count": 26,
   "metadata": {},
   "outputs": [],
   "source": [
    "X_train = train_df_v2.drop(['label'], axis = 1)\n",
    "y_train = train_df_v2.loc[:, ['label']]\n",
    "\n",
    "X_test = test_df_v2.drop(['label'], axis = 1)\n",
    "y_test = test_df_v2.loc[:, ['label']]\n"
   ]
  },
  {
   "cell_type": "markdown",
   "metadata": {},
   "source": [
    "### Feature Normalization using Z-Score\n",
    "\n",
    "### $ Z-score (X) = ( X - MEAN ) / Standard Deviation $ \n",
    "\n",
    "- Z-score is the number of standard deviations from the mean a data point is. Z-score range falls between -3 (Standard Deviation) to 3 (Standard Deviation).\n",
    "\n",
    "- We can Normalize data using **Min-Max Scaling** too but for this data, It is taking too long that's why we used Z-score."
   ]
  },
  {
   "cell_type": "code",
   "execution_count": 27,
   "metadata": {},
   "outputs": [],
   "source": [
    "X_train = X_train.astype('float')\n",
    "X_test = X_test.astype('float')"
   ]
  },
  {
   "cell_type": "code",
   "execution_count": 28,
   "metadata": {
    "scrolled": true
   },
   "outputs": [],
   "source": [
    "for col in X_train.columns:\n",
    "        encode_numeric_zscore(X_train,col)\n",
    "\n",
    "for col in X_test.columns:\n",
    "        encode_numeric_zscore(X_test,col)\n"
   ]
  },
  {
   "cell_type": "code",
   "execution_count": 29,
   "metadata": {},
   "outputs": [],
   "source": [
    "target = 'label'"
   ]
  },
  {
   "cell_type": "markdown",
   "metadata": {},
   "source": [
    "### Downsampling the data to make dataset less noisy\n",
    "\n",
    "- Downsampling is the process of reducing the sampling size of the data. As per the 1st figure, We can see that data is not balanced for the target value of '0' and '1'. So, make dataset balanced we will do Downsampling and keep minimum rows among both values.\n",
    "\n",
    "- There are more ways to do downsampling but we have used random downsampling using **numpy**'s random.shuffle method to shuffle data and keep minimum rows among both target value.\n"
   ]
  },
  {
   "cell_type": "code",
   "execution_count": 30,
   "metadata": {},
   "outputs": [
    {
     "data": {
      "text/plain": [
       "<matplotlib.axes._subplots.AxesSubplot at 0x8c7bea4d30>"
      ]
     },
     "execution_count": 30,
     "metadata": {},
     "output_type": "execute_result"
    },
    {
     "data": {
      "image/png": "[encoded data removed]",
      "text/plain": [
       "<Figure size 432x288 with 1 Axes>"
      ]
     },
     "metadata": {
      "needs_background": "light"
     },
     "output_type": "display_data"
    }
   ],
   "source": [
    "y_train[target].value_counts().plot(kind = 'bar')"
   ]
  },
  {
   "cell_type": "code",
   "execution_count": 31,
   "metadata": {},
   "outputs": [],
   "source": [
    "index_label0 = y_train[y_train[target] == 0].index.values\n",
    "index_label1 = y_train[y_train[target] == 1].index.values\n",
    "\n",
    "labels_min_rows = min(y_train[target].value_counts())\n",
    "\n",
    "np.random.shuffle(index_label0)\n",
    "np.random.shuffle(index_label1)\n",
    "\n",
    "index_shuffled_label0, index_shuffled_label1 = list(index_label0), list(index_label1)\n",
    "\n",
    "indices_ = index_shuffled_label0[:labels_min_rows] + index_shuffled_label1[:labels_min_rows]\n"
   ]
  },
  {
   "cell_type": "code",
   "execution_count": 32,
   "metadata": {},
   "outputs": [
    {
     "data": {
      "text/plain": [
       "(155230, 18)"
      ]
     },
     "execution_count": 32,
     "metadata": {},
     "output_type": "execute_result"
    }
   ],
   "source": [
    "X_train.shape"
   ]
  },
  {
   "cell_type": "code",
   "execution_count": 33,
   "metadata": {},
   "outputs": [],
   "source": [
    "X_train_ds = X_train.loc[indices_, :]"
   ]
  },
  {
   "cell_type": "code",
   "execution_count": 34,
   "metadata": {},
   "outputs": [],
   "source": [
    "y_train_ds = y_train.loc[indices_, :]"
   ]
  },
  {
   "cell_type": "markdown",
   "metadata": {},
   "source": [
    "### Downsampled Data"
   ]
  },
  {
   "cell_type": "code",
   "execution_count": 35,
   "metadata": {},
   "outputs": [
    {
     "data": {
      "text/plain": [
       "(105944, 18)"
      ]
     },
     "execution_count": 35,
     "metadata": {},
     "output_type": "execute_result"
    }
   ],
   "source": [
    "X_train_ds.shape"
   ]
  },
  {
   "cell_type": "code",
   "execution_count": 36,
   "metadata": {},
   "outputs": [
    {
     "data": {
      "text/plain": [
       "(105944, 1)"
      ]
     },
     "execution_count": 36,
     "metadata": {},
     "output_type": "execute_result"
    }
   ],
   "source": [
    "y_train_ds.shape"
   ]
  },
  {
   "cell_type": "code",
   "execution_count": 37,
   "metadata": {},
   "outputs": [
    {
     "data": {
      "text/plain": [
       "<matplotlib.axes._subplots.AxesSubplot at 0x8c05ce4710>"
      ]
     },
     "execution_count": 37,
     "metadata": {},
     "output_type": "execute_result"
    },
    {
     "data": {
      "image/png": "[encoded data removed]",
      "text/plain": [
       "<Figure size 432x288 with 1 Axes>"
      ]
     },
     "metadata": {
      "needs_background": "light"
     },
     "output_type": "display_data"
    }
   ],
   "source": [
    "y_train_ds[target].value_counts().plot(kind = 'bar')"
   ]
  },
  {
   "cell_type": "markdown",
   "metadata": {},
   "source": [
    "### Train model using Logistic Regression "
   ]
  },
  {
   "cell_type": "code",
   "execution_count": 38,
   "metadata": {},
   "outputs": [
    {
     "data": {
      "text/plain": [
       "array([1, 1, 1, ..., 1, 1, 1], dtype=int64)"
      ]
     },
     "execution_count": 38,
     "metadata": {},
     "output_type": "execute_result"
    }
   ],
   "source": [
    "from sklearn.linear_model import LogisticRegression\n",
    "\n",
    "# instantiate the model (using the default parameters)\n",
    "logreg = LogisticRegression()\n",
    "\n",
    "# fit the model with data\n",
    "logreg.fit(X_train_ds.values, y_train_ds.values)\n",
    "\n",
    "# predict the response for new observations\n",
    "y_pred = logreg.predict(X_test.values)\n",
    "y_pred"
   ]
  },
  {
   "cell_type": "markdown",
   "metadata": {},
   "source": [
    "### Classification report for Logistic Rgression"
   ]
  },
  {
   "cell_type": "code",
   "execution_count": 39,
   "metadata": {},
   "outputs": [
    {
     "name": "stdout",
     "output_type": "stream",
     "text": [
      "Accuracy score: 0.7700928678540423\n"
     ]
    }
   ],
   "source": [
    "from sklearn import metrics\n",
    "\n",
    "\n",
    "score = metrics.accuracy_score(y_test, y_pred)\n",
    "\n",
    "print(\"Accuracy score: {}\".format(score))"
   ]
  },
  {
   "cell_type": "code",
   "execution_count": 40,
   "metadata": {},
   "outputs": [
    {
     "name": "stdout",
     "output_type": "stream",
     "text": [
      "Precision score: 0.8187862519894269\n"
     ]
    }
   ],
   "source": [
    "score = metrics.precision_score(y_test, y_pred, average= \"weighted\")\n",
    "print(\"Precision score: {}\".format(score))"
   ]
  },
  {
   "cell_type": "code",
   "execution_count": 41,
   "metadata": {},
   "outputs": [
    {
     "name": "stdout",
     "output_type": "stream",
     "text": [
      "Recall score: 0.7700928678540423\n"
     ]
    }
   ],
   "source": [
    "score = metrics.recall_score(y_test, y_pred, average= \"weighted\")\n",
    "print(\"Recall score: {}\".format(score))"
   ]
  },
  {
   "cell_type": "code",
   "execution_count": 42,
   "metadata": {},
   "outputs": [
    {
     "name": "stdout",
     "output_type": "stream",
     "text": [
      "F1 score: 0.7574814620546751\n"
     ]
    }
   ],
   "source": [
    "score = metrics.f1_score(y_test, y_pred, average= \"weighted\")\n",
    "print(\"F1 score: {}\".format(score))"
   ]
  },
  {
   "cell_type": "code",
   "execution_count": 43,
   "metadata": {},
   "outputs": [
    {
     "name": "stdout",
     "output_type": "stream",
     "text": [
      "              precision    recall  f1-score   support\n",
      "\n",
      "           0       0.95      0.54      0.69     35942\n",
      "           1       0.70      0.97      0.82     40080\n",
      "\n",
      "    accuracy                           0.77     76022\n",
      "   macro avg       0.83      0.76      0.75     76022\n",
      "weighted avg       0.82      0.77      0.76     76022\n",
      "\n"
     ]
    }
   ],
   "source": [
    "print(metrics.classification_report(y_test, y_pred))"
   ]
  },
  {
   "cell_type": "markdown",
   "metadata": {},
   "source": [
    "### Confusion Matrix  for Logistic Regression"
   ]
  },
  {
   "cell_type": "code",
   "execution_count": 44,
   "metadata": {},
   "outputs": [
    {
     "name": "stdout",
     "output_type": "stream",
     "text": [
      "[[19568 16374]\n",
      " [ 1104 38976]]\n",
      "Plotting confusion matrix\n"
     ]
    },
    {
     "data": {
      "image/png": "[encoded data removed]",
      "text/plain": [
       "<Figure size 432x288 with 2 Axes>"
      ]
     },
     "metadata": {
      "needs_background": "light"
     },
     "output_type": "display_data"
    }
   ],
   "source": [
    "from sklearn.metrics import confusion_matrix, classification_report\n",
    "\n",
    "cm = confusion_matrix(y_test, y_pred)\n",
    "print(cm)\n",
    "\n",
    "\n",
    "print('Plotting confusion matrix')\n",
    "\n",
    "plt.figure()\n",
    "plot_confusion_matrix(cm, [0, 1])\n",
    "plt.show()"
   ]
  },
  {
   "cell_type": "markdown",
   "metadata": {},
   "source": [
    "### ROC curve for Logistic Regression"
   ]
  },
  {
   "cell_type": "code",
   "execution_count": 45,
   "metadata": {},
   "outputs": [
    {
     "data": {
      "image/png": "[encoded data removed]",
      "text/plain": [
       "<Figure size 432x288 with 1 Axes>"
      ]
     },
     "metadata": {
      "needs_background": "light"
     },
     "output_type": "display_data"
    }
   ],
   "source": [
    "plot_roc(y_pred,y_test)"
   ]
  },
  {
   "cell_type": "markdown",
   "metadata": {},
   "source": [
    "### Train model using SVM "
   ]
  },
  {
   "cell_type": "code",
   "execution_count": 46,
   "metadata": {},
   "outputs": [
    {
     "data": {
      "text/plain": [
       "array([1, 1, 1, ..., 1, 1, 1], dtype=int64)"
      ]
     },
     "execution_count": 46,
     "metadata": {},
     "output_type": "execute_result"
    }
   ],
   "source": [
    "from sklearn import svm\n",
    "\n",
    "#create svm classifier\n",
    "cls = svm.SVC(kernel = 'rbf', gamma = 0.5)\n",
    "\n",
    "#train\n",
    "cls.fit(X_train_ds,y_train_ds)\n",
    "\n",
    "#predict\n",
    "y_pred=cls.predict(X_test)\n",
    "\n",
    "y_pred"
   ]
  },
  {
   "cell_type": "markdown",
   "metadata": {},
   "source": [
    "### Classification report for SVM"
   ]
  },
  {
   "cell_type": "code",
   "execution_count": 47,
   "metadata": {},
   "outputs": [
    {
     "name": "stdout",
     "output_type": "stream",
     "text": [
      "Accuracy score: 0.8351003656836179\n"
     ]
    }
   ],
   "source": [
    "score = metrics.accuracy_score(y_test, y_pred)\n",
    "\n",
    "print(\"Accuracy score: {}\".format(score))"
   ]
  },
  {
   "cell_type": "code",
   "execution_count": 48,
   "metadata": {},
   "outputs": [
    {
     "name": "stdout",
     "output_type": "stream",
     "text": [
      "Precision score: 0.8493981150028478\n"
     ]
    }
   ],
   "source": [
    "score = metrics.precision_score(y_test, y_pred, average= \"weighted\")\n",
    "print(\"Precision score: {}\".format(score))"
   ]
  },
  {
   "cell_type": "code",
   "execution_count": 49,
   "metadata": {},
   "outputs": [
    {
     "name": "stdout",
     "output_type": "stream",
     "text": [
      "Recall score: 0.8351003656836179\n"
     ]
    }
   ],
   "source": [
    "score = metrics.recall_score(y_test, y_pred, average= \"weighted\")\n",
    "print(\"Recall score: {}\".format(score))"
   ]
  },
  {
   "cell_type": "code",
   "execution_count": 50,
   "metadata": {},
   "outputs": [
    {
     "name": "stdout",
     "output_type": "stream",
     "text": [
      "F1 score: 0.8322016124303879\n"
     ]
    }
   ],
   "source": [
    "score = metrics.f1_score(y_test, y_pred, average= \"weighted\")\n",
    "print(\"F1 score: {}\".format(score))"
   ]
  },
  {
   "cell_type": "code",
   "execution_count": 51,
   "metadata": {},
   "outputs": [
    {
     "name": "stdout",
     "output_type": "stream",
     "text": [
      "              precision    recall  f1-score   support\n",
      "\n",
      "           0       0.92      0.71      0.80     35942\n",
      "           1       0.79      0.94      0.86     40080\n",
      "\n",
      "    accuracy                           0.84     76022\n",
      "   macro avg       0.85      0.83      0.83     76022\n",
      "weighted avg       0.85      0.84      0.83     76022\n",
      "\n"
     ]
    }
   ],
   "source": [
    "print(metrics.classification_report(y_test, y_pred))"
   ]
  },
  {
   "cell_type": "markdown",
   "metadata": {},
   "source": [
    "### Confusion Matrix and ROC curve for SVM"
   ]
  },
  {
   "cell_type": "code",
   "execution_count": 52,
   "metadata": {},
   "outputs": [
    {
     "name": "stdout",
     "output_type": "stream",
     "text": [
      "[[25628 10314]\n",
      " [ 2222 37858]]\n",
      "Plotting confusion matrix\n"
     ]
    },
    {
     "data": {
      "image/png": "[encoded data removed]",
      "text/plain": [
       "<Figure size 432x288 with 2 Axes>"
      ]
     },
     "metadata": {
      "needs_background": "light"
     },
     "output_type": "display_data"
    }
   ],
   "source": [
    "# Compute confusion matrix\n",
    "cm = confusion_matrix(y_test, y_pred)\n",
    "print(cm)\n",
    "\n",
    "\n",
    "print('Plotting confusion matrix')\n",
    "\n",
    "plt.figure()\n",
    "plot_confusion_matrix(cm, [0,1])\n",
    "plt.show()"
   ]
  },
  {
   "cell_type": "code",
   "execution_count": 53,
   "metadata": {},
   "outputs": [
    {
     "data": {
      "image/png": "[encoded data removed]",
      "text/plain": [
       "<Figure size 432x288 with 1 Axes>"
      ]
     },
     "metadata": {
      "needs_background": "light"
     },
     "output_type": "display_data"
    }
   ],
   "source": [
    "plot_roc(y_pred,y_test)"
   ]
  },
  {
   "cell_type": "markdown",
   "metadata": {},
   "source": [
    "### Train model using KNN"
   ]
  },
  {
   "cell_type": "code",
   "execution_count": 54,
   "metadata": {},
   "outputs": [
    {
     "data": {
      "text/plain": [
       "array([1, 1, 1, ..., 1, 1, 1], dtype=int64)"
      ]
     },
     "execution_count": 54,
     "metadata": {},
     "output_type": "execute_result"
    }
   ],
   "source": [
    "#KNN\n",
    "\n",
    "from sklearn.neighbors import KNeighborsClassifier\n",
    "\n",
    "# instantiate the model (using the value K=10)\n",
    "knn = KNeighborsClassifier(n_neighbors=15)\n",
    "\n",
    "# fit the model with data\n",
    "knn.fit(X_train_ds.values, y_train_ds.values)\n",
    "\n",
    "# predict the response for new observations\n",
    "y_pred = knn.predict(X_test)\n",
    "\n",
    "y_pred"
   ]
  },
  {
   "cell_type": "markdown",
   "metadata": {},
   "source": [
    "### Classification report , Confusion matrix and ROC curve for KNN"
   ]
  },
  {
   "cell_type": "code",
   "execution_count": 55,
   "metadata": {},
   "outputs": [
    {
     "name": "stdout",
     "output_type": "stream",
     "text": [
      "Accuracy score: 0.8259451211491411\n"
     ]
    }
   ],
   "source": [
    "score = metrics.accuracy_score(y_test, y_pred)\n",
    "\n",
    "print(\"Accuracy score: {}\".format(score))"
   ]
  },
  {
   "cell_type": "code",
   "execution_count": 56,
   "metadata": {},
   "outputs": [
    {
     "name": "stdout",
     "output_type": "stream",
     "text": [
      "Precision score: 0.8317387797078515\n"
     ]
    }
   ],
   "source": [
    "score = metrics.precision_score(y_test, y_pred, average= \"weighted\")\n",
    "print(\"Precision score: {}\".format(score))"
   ]
  },
  {
   "cell_type": "code",
   "execution_count": 57,
   "metadata": {},
   "outputs": [
    {
     "name": "stdout",
     "output_type": "stream",
     "text": [
      "Recall score: 0.8259451211491411\n"
     ]
    }
   ],
   "source": [
    "score = metrics.recall_score(y_test, y_pred, average= \"weighted\")\n",
    "print(\"Recall score: {}\".format(score))"
   ]
  },
  {
   "cell_type": "code",
   "execution_count": 58,
   "metadata": {},
   "outputs": [
    {
     "name": "stdout",
     "output_type": "stream",
     "text": [
      "F1 score: 0.8243000053354083\n"
     ]
    }
   ],
   "source": [
    "score = metrics.f1_score(y_test, y_pred, average= \"weighted\")\n",
    "print(\"F1 score: {}\".format(score))"
   ]
  },
  {
   "cell_type": "code",
   "execution_count": 59,
   "metadata": {},
   "outputs": [
    {
     "name": "stdout",
     "output_type": "stream",
     "text": [
      "              precision    recall  f1-score   support\n",
      "\n",
      "           0       0.87      0.74      0.80     35942\n",
      "           1       0.79      0.90      0.85     40080\n",
      "\n",
      "    accuracy                           0.83     76022\n",
      "   macro avg       0.83      0.82      0.82     76022\n",
      "weighted avg       0.83      0.83      0.82     76022\n",
      "\n"
     ]
    }
   ],
   "source": [
    "print(metrics.classification_report(y_test, y_pred))"
   ]
  },
  {
   "cell_type": "code",
   "execution_count": 60,
   "metadata": {},
   "outputs": [
    {
     "name": "stdout",
     "output_type": "stream",
     "text": [
      "[[26552  9390]\n",
      " [ 3842 36238]]\n",
      "Plotting confusion matrix\n"
     ]
    },
    {
     "data": {
      "image/png": "[encoded data removed]",
      "text/plain": [
       "<Figure size 432x288 with 2 Axes>"
      ]
     },
     "metadata": {
      "needs_background": "light"
     },
     "output_type": "display_data"
    }
   ],
   "source": [
    "# Compute confusion matrix\n",
    "cm = confusion_matrix(y_test, y_pred)\n",
    "print(cm)\n",
    "\n",
    "\n",
    "print('Plotting confusion matrix')\n",
    "\n",
    "plt.figure()\n",
    "plot_confusion_matrix(cm, [0,1])\n",
    "plt.show()"
   ]
  },
  {
   "cell_type": "code",
   "execution_count": 61,
   "metadata": {},
   "outputs": [
    {
     "data": {
      "image/png": "[encoded data removed]",
      "text/plain": [
       "<Figure size 432x288 with 1 Axes>"
      ]
     },
     "metadata": {
      "needs_background": "light"
     },
     "output_type": "display_data"
    }
   ],
   "source": [
    "plot_roc(y_pred,y_test)"
   ]
  },
  {
   "cell_type": "markdown",
   "metadata": {},
   "source": [
    "### Neural Network\n",
    "\n",
    "**One-hot encoding target column using pandas in-built method \"get_dummies\"\n",
    "  because Binary classification Neural Network accept 2-d array of output vector**"
   ]
  },
  {
   "cell_type": "code",
   "execution_count": 62,
   "metadata": {},
   "outputs": [],
   "source": [
    "y_train_ds1 = pd.get_dummies(y_train_ds[target])"
   ]
  },
  {
   "cell_type": "code",
   "execution_count": 63,
   "metadata": {},
   "outputs": [],
   "source": [
    "y_test = test_df_v2.loc[:, ['label']]"
   ]
  },
  {
   "cell_type": "code",
   "execution_count": 64,
   "metadata": {},
   "outputs": [],
   "source": [
    "y_test_tf = pd.get_dummies(y_test[target])"
   ]
  },
  {
   "cell_type": "code",
   "execution_count": 65,
   "metadata": {},
   "outputs": [
    {
     "data": {
      "text/plain": [
       "(105944, 18)"
      ]
     },
     "execution_count": 65,
     "metadata": {},
     "output_type": "execute_result"
    }
   ],
   "source": [
    "X_train_ds.shape"
   ]
  },
  {
   "cell_type": "code",
   "execution_count": 66,
   "metadata": {},
   "outputs": [
    {
     "data": {
      "text/plain": [
       "(105944, 2)"
      ]
     },
     "execution_count": 66,
     "metadata": {},
     "output_type": "execute_result"
    }
   ],
   "source": [
    "y_train_ds1.shape"
   ]
  },
  {
   "cell_type": "code",
   "execution_count": 67,
   "metadata": {},
   "outputs": [
    {
     "data": {
      "text/plain": [
       "(76022, 18)"
      ]
     },
     "execution_count": 67,
     "metadata": {},
     "output_type": "execute_result"
    }
   ],
   "source": [
    "X_test.shape"
   ]
  },
  {
   "cell_type": "code",
   "execution_count": 68,
   "metadata": {},
   "outputs": [
    {
     "data": {
      "text/plain": [
       "(76022, 2)"
      ]
     },
     "execution_count": 68,
     "metadata": {},
     "output_type": "execute_result"
    }
   ],
   "source": [
    "y_test_tf.shape"
   ]
  },
  {
   "cell_type": "markdown",
   "metadata": {},
   "source": [
    "### Training Neural Network using Sequential model with the use of Hidden layers, EarlyStopping and ModelCheckpoint"
   ]
  },
  {
   "cell_type": "code",
   "execution_count": 70,
   "metadata": {
    "scrolled": true
   },
   "outputs": [
    {
     "name": "stdout",
     "output_type": "stream",
     "text": [
      "Train on 105944 samples, validate on 76022 samples\n",
      "Epoch 1/100\n",
      "105944/105944 - 5s - loss: 0.1827 - acc: 0.9087 - val_loss: 0.3356 - val_acc: 0.8136\n",
      "Epoch 2/100\n",
      "105944/105944 - 5s - loss: 0.1628 - acc: 0.9173 - val_loss: 0.3237 - val_acc: 0.8288\n",
      "Epoch 3/100\n",
      "105944/105944 - 5s - loss: 0.1595 - acc: 0.9194 - val_loss: 0.3111 - val_acc: 0.8381\n",
      "Epoch 4/100\n",
      "105944/105944 - 5s - loss: 0.1578 - acc: 0.9195 - val_loss: 0.3470 - val_acc: 0.8134\n",
      "Epoch 5/100\n",
      "105944/105944 - 5s - loss: 0.1563 - acc: 0.9212 - val_loss: 0.3232 - val_acc: 0.8152\n",
      "Epoch 6/100\n",
      "105944/105944 - 5s - loss: 0.1548 - acc: 0.9215 - val_loss: 0.2980 - val_acc: 0.8471\n",
      "Epoch 7/100\n",
      "105944/105944 - 5s - loss: 0.1542 - acc: 0.9217 - val_loss: 0.3359 - val_acc: 0.8312\n",
      "Epoch 8/100\n",
      "105944/105944 - 5s - loss: 0.1535 - acc: 0.9217 - val_loss: 0.3082 - val_acc: 0.8309\n",
      "Epoch 9/100\n",
      "105944/105944 - 5s - loss: 0.1529 - acc: 0.9225 - val_loss: 0.3536 - val_acc: 0.8071\n",
      "Epoch 10/100\n",
      "105944/105944 - 5s - loss: 0.1522 - acc: 0.9231 - val_loss: 0.3658 - val_acc: 0.8236\n",
      "Epoch 11/100\n",
      "105944/105944 - 5s - loss: 0.1516 - acc: 0.9230 - val_loss: 0.2926 - val_acc: 0.8375\n",
      "Epoch 12/100\n",
      "105944/105944 - 5s - loss: 0.1515 - acc: 0.9235 - val_loss: 0.3158 - val_acc: 0.8312\n",
      "Epoch 13/100\n",
      "105944/105944 - 6s - loss: 0.1510 - acc: 0.9235 - val_loss: 0.3541 - val_acc: 0.8089\n",
      "Epoch 14/100\n",
      "105944/105944 - 5s - loss: 0.1505 - acc: 0.9238 - val_loss: 0.3330 - val_acc: 0.8170\n",
      "Epoch 15/100\n",
      "105944/105944 - 5s - loss: 0.1498 - acc: 0.9240 - val_loss: 0.3321 - val_acc: 0.8275\n",
      "Epoch 16/100\n",
      "105944/105944 - 5s - loss: 0.1502 - acc: 0.9240 - val_loss: 0.3165 - val_acc: 0.8338\n",
      "Epoch 17/100\n",
      "105944/105944 - 6s - loss: 0.1488 - acc: 0.9245 - val_loss: 0.3346 - val_acc: 0.8265\n",
      "Epoch 18/100\n",
      "105944/105944 - 6s - loss: 0.1489 - acc: 0.9245 - val_loss: 0.3069 - val_acc: 0.8402\n",
      "Epoch 19/100\n",
      "105944/105944 - 5s - loss: 0.1483 - acc: 0.9254 - val_loss: 0.3425 - val_acc: 0.8176\n",
      "Epoch 20/100\n",
      "105944/105944 - 5s - loss: 0.1484 - acc: 0.9249 - val_loss: 0.3327 - val_acc: 0.8169\n",
      "Epoch 21/100\n",
      "105944/105944 - 5s - loss: 0.1482 - acc: 0.9247 - val_loss: 0.3351 - val_acc: 0.8287\n",
      "Epoch 00021: early stopping\n"
     ]
    },
    {
     "data": {
      "text/plain": [
       "<tensorflow.python.keras.callbacks.History at 0x8c27741c50>"
      ]
     },
     "execution_count": 70,
     "metadata": {},
     "output_type": "execute_result"
    }
   ],
   "source": [
    "import io\n",
    "import requests\n",
    "import os\n",
    "from tensorflow.keras.models import Sequential\n",
    "from tensorflow.keras.layers import Dense, Activation\n",
    "from tensorflow.keras.callbacks import EarlyStopping\n",
    "from tensorflow.keras.callbacks import ModelCheckpoint\n",
    "save_path = \"./dnn/\"\n",
    "\n",
    "model = Sequential()\n",
    "\n",
    "#Tuning Hyperparameters to achieve best model and to improve performance\n",
    "model.add(Dense(50, input_dim=X_train_ds.shape[1], activation='relu'))\n",
    "model.add(Dense(25,activation='relu'))\n",
    "model.add(Dense(15,activation='relu'))\n",
    "model.add(Dense(y_train_ds1.shape[1],activation='softmax'))\n",
    "\n",
    "model.compile(loss='categorical_crossentropy', optimizer='adam', metrics=['accuracy'])\n",
    "\n",
    "monitor = EarlyStopping(monitor='val_loss', min_delta=1e-4, patience=10, verbose=2, mode='auto') \n",
    "\n",
    "checkpointer = ModelCheckpoint(filepath=\"dnn/network.hdf5\", verbose=0, save_best_only=True) # save best model\n",
    "\n",
    "model.fit(X_train_ds, y_train_ds1, validation_data=(X_test,y_test_tf), callbacks=[monitor], verbose=2, epochs=100)  \n",
    "\n",
    "model.load_weights('dnn/network.hdf5') # load weights from best model\n",
    "#model.save(os.path.join(save_path,\"network1.hdf5\"))"
   ]
  },
  {
   "cell_type": "code",
   "execution_count": 71,
   "metadata": {},
   "outputs": [],
   "source": [
    "y_pred = model.predict(X_test)"
   ]
  },
  {
   "cell_type": "code",
   "execution_count": 72,
   "metadata": {},
   "outputs": [
    {
     "name": "stdout",
     "output_type": "stream",
     "text": [
      "[1 1 1 ... 1 1 1]\n"
     ]
    }
   ],
   "source": [
    "y_pred = np.argmax(y_pred,axis=1) # raw probabilities to choose class (highest probability)\n",
    "print(y_pred)"
   ]
  },
  {
   "cell_type": "code",
   "execution_count": 73,
   "metadata": {},
   "outputs": [
    {
     "name": "stdout",
     "output_type": "stream",
     "text": [
      "[0 0 0 ... 0 0 0]\n"
     ]
    }
   ],
   "source": [
    "y_test = np.argmax(y_test_tf.values, axis = 1)\n",
    "print(y_test)"
   ]
  },
  {
   "cell_type": "markdown",
   "metadata": {},
   "source": [
    "### Classification report , Confusion matrix and ROC curve for Neural Network"
   ]
  },
  {
   "cell_type": "code",
   "execution_count": 74,
   "metadata": {},
   "outputs": [
    {
     "name": "stdout",
     "output_type": "stream",
     "text": [
      "Accuracy score: 0.8287206335008287\n"
     ]
    }
   ],
   "source": [
    "score = metrics.accuracy_score(y_test, y_pred)\n",
    "\n",
    "print(\"Accuracy score: {}\".format(score))"
   ]
  },
  {
   "cell_type": "code",
   "execution_count": 75,
   "metadata": {},
   "outputs": [
    {
     "name": "stdout",
     "output_type": "stream",
     "text": [
      "Precision score: 0.8490009553492743\n"
     ]
    }
   ],
   "source": [
    "score = metrics.precision_score(y_test, y_pred, average= \"weighted\")\n",
    "print(\"Precision score: {}\".format(score))"
   ]
  },
  {
   "cell_type": "code",
   "execution_count": 76,
   "metadata": {},
   "outputs": [
    {
     "name": "stdout",
     "output_type": "stream",
     "text": [
      "Recall score: 0.8287206335008287\n"
     ]
    }
   ],
   "source": [
    "score = metrics.recall_score(y_test, y_pred, average= \"weighted\")\n",
    "print(\"Recall score: {}\".format(score))"
   ]
  },
  {
   "cell_type": "code",
   "execution_count": 77,
   "metadata": {},
   "outputs": [
    {
     "name": "stdout",
     "output_type": "stream",
     "text": [
      "F1 score: 0.824720395549406\n"
     ]
    }
   ],
   "source": [
    "score = metrics.f1_score(y_test, y_pred, average= \"weighted\")\n",
    "print(\"F1 score: {}\".format(score))"
   ]
  },
  {
   "cell_type": "code",
   "execution_count": 78,
   "metadata": {},
   "outputs": [
    {
     "name": "stdout",
     "output_type": "stream",
     "text": [
      "              precision    recall  f1-score   support\n",
      "\n",
      "           0       0.93      0.69      0.79     35942\n",
      "           1       0.77      0.96      0.85     40080\n",
      "\n",
      "    accuracy                           0.83     76022\n",
      "   macro avg       0.85      0.82      0.82     76022\n",
      "weighted avg       0.85      0.83      0.82     76022\n",
      "\n"
     ]
    }
   ],
   "source": [
    "print(metrics.classification_report(y_test, y_pred))"
   ]
  },
  {
   "cell_type": "code",
   "execution_count": 79,
   "metadata": {},
   "outputs": [
    {
     "name": "stdout",
     "output_type": "stream",
     "text": [
      "[[24659 11283]\n",
      " [ 1738 38342]]\n",
      "Plotting confusion matrix\n"
     ]
    },
    {
     "data": {
      "image/png": "[encoded data removed]",
      "text/plain": [
       "<Figure size 432x288 with 2 Axes>"
      ]
     },
     "metadata": {
      "needs_background": "light"
     },
     "output_type": "display_data"
    }
   ],
   "source": [
    "# Compute confusion matrix\n",
    "cm = confusion_matrix(y_test, y_pred)\n",
    "print(cm)\n",
    "\n",
    "\n",
    "print('Plotting confusion matrix')\n",
    "\n",
    "plt.figure()\n",
    "plot_confusion_matrix(cm, [0,1])\n",
    "plt.show()"
   ]
  },
  {
   "cell_type": "code",
   "execution_count": 80,
   "metadata": {},
   "outputs": [
    {
     "data": {
      "image/png": "[encoded data removed]",
      "text/plain": [
       "<Figure size 432x288 with 1 Axes>"
      ]
     },
     "metadata": {
      "needs_background": "light"
     },
     "output_type": "display_data"
    }
   ],
   "source": [
    "plot_roc(y_pred,y_test)"
   ]
  },
  {
   "cell_type": "markdown",
   "metadata": {},
   "source": [
    "## Additional Feature Implementation\n",
    "\n",
    "### Intrusion Detection as a Multi-class classification problem to detect the type of each intrusion\n",
    "\n",
    "- **Preprocessed dataset as described above with change of target from 'label' to 'attack_cat'**\n",
    "\n",
    "- **Since each attack category has different value_counts and we can not just ignore minimum number of value_counts. So, we can not apply downsampling of dataset for Multi-class classification problem**"
   ]
  },
  {
   "cell_type": "code",
   "execution_count": 81,
   "metadata": {},
   "outputs": [],
   "source": [
    "import pandas as pd\n",
    "\n",
    "train_df_a1 = pd.read_csv('data/UNSW_NB15_training-set_csc215.csv')\n",
    "test_df_a1 = pd.read_csv('data/UNSW_NB15_test-set_csc215.csv')"
   ]
  },
  {
   "cell_type": "code",
   "execution_count": 82,
   "metadata": {},
   "outputs": [],
   "source": [
    "train_df_a1.drop(['id','service','label', 'swin'], axis=1, inplace=True)\n",
    "test_df_a1.drop(['id','service','label', 'swin'], axis=1, inplace=True)"
   ]
  },
  {
   "cell_type": "code",
   "execution_count": 83,
   "metadata": {},
   "outputs": [],
   "source": [
    "considered_list = ['tcp', 'udp', 'unas']"
   ]
  },
  {
   "cell_type": "code",
   "execution_count": 84,
   "metadata": {},
   "outputs": [],
   "source": [
    "def func_proto_encoding(column_value):\n",
    "    if column_value in considered_list:\n",
    "        return column_value\n",
    "    else:\n",
    "        return \"others\""
   ]
  },
  {
   "cell_type": "code",
   "execution_count": 85,
   "metadata": {},
   "outputs": [],
   "source": [
    "train_df_a1['proto'] = train_df_a1['proto'].apply(func_proto_encoding)\n",
    "\n",
    "test_df_a1['proto'] = test_df_a1['proto'].apply(func_proto_encoding)"
   ]
  },
  {
   "cell_type": "code",
   "execution_count": 86,
   "metadata": {},
   "outputs": [],
   "source": [
    "considered_state_list = ['INT', 'FIN', 'CON', 'REQ']\n",
    "\n",
    "train_df_a1_v1 = train_df_a1[train_df_a1['state'].isin(considered_state_list)]\n",
    "\n",
    "test_df_a1_v1 = test_df_a1[test_df_a1['state'].isin(considered_state_list)]"
   ]
  },
  {
   "cell_type": "code",
   "execution_count": 87,
   "metadata": {},
   "outputs": [],
   "source": [
    "encode_text_dummy(train_df_a1_v1,\"proto\")  \n",
    "encode_text_dummy(train_df_a1_v1,\"state\")\n",
    "\n",
    "encode_text_dummy(test_df_a1_v1,\"proto\")  \n",
    "encode_text_dummy(test_df_a1_v1,\"state\")"
   ]
  },
  {
   "cell_type": "markdown",
   "metadata": {},
   "source": [
    "#### Since attack_cat column has different categorical values, We have to Encode that categorical values to index."
   ]
  },
  {
   "cell_type": "code",
   "execution_count": 88,
   "metadata": {},
   "outputs": [
    {
     "data": {
      "text/plain": [
       "array(['Analysis', 'Backdoor', 'DoS', 'Exploits', 'Fuzzers', 'Generic',\n",
       "       'Normal', 'Reconnaissance', 'Shellcode', 'Worms'], dtype=object)"
      ]
     },
     "execution_count": 88,
     "metadata": {},
     "output_type": "execute_result"
    }
   ],
   "source": [
    "encode_text_index(train_df_a1_v1,\"attack_cat\")\n",
    "encode_text_index(test_df_a1_v1,\"attack_cat\")"
   ]
  },
  {
   "cell_type": "code",
   "execution_count": 89,
   "metadata": {},
   "outputs": [
    {
     "name": "stdout",
     "output_type": "stream",
     "text": [
      "['spkts', 'dinpkt', 'sjit', 'djit', 'response_body_len']\n"
     ]
    }
   ],
   "source": [
    "correlation_list = train_df_a1_v1[train_df_a1_v1.columns[:]].corr()['attack_cat']\n",
    "\n",
    "correlation_list = [col for col in correlation_list.index if correlation_list[col] < 0.01 and correlation_list[col] > -0.01]\n",
    "print(correlation_list)"
   ]
  },
  {
   "cell_type": "code",
   "execution_count": 90,
   "metadata": {},
   "outputs": [],
   "source": [
    "train_df_a1_v2 = train_df_a1_v1.drop(correlation_list, axis = 1)\n",
    "test_df_a1_v2 = test_df_a1_v1.drop(correlation_list, axis = 1)"
   ]
  },
  {
   "cell_type": "code",
   "execution_count": 91,
   "metadata": {},
   "outputs": [],
   "source": [
    "X_train_a1 = train_df_a1_v2.drop(['attack_cat'], axis = 1)\n",
    "y_train_a1 = train_df_a1_v2.loc[:, ['attack_cat']]\n",
    "\n",
    "X_test_a1 = test_df_a1_v2.drop(['attack_cat'], axis = 1)\n",
    "y_test_a1 = test_df_a1_v2.loc[:, ['attack_cat']]\n"
   ]
  },
  {
   "cell_type": "code",
   "execution_count": 92,
   "metadata": {},
   "outputs": [],
   "source": [
    "X_train_a1 = X_train_a1.astype('float')\n",
    "X_test_a1 = X_test_a1.astype('float')"
   ]
  },
  {
   "cell_type": "code",
   "execution_count": 93,
   "metadata": {},
   "outputs": [],
   "source": [
    "for col in X_train_a1.columns:\n",
    "        encode_numeric_zscore(X_train_a1,col)\n",
    "\n",
    "for col in X_test_a1.columns:\n",
    "        encode_numeric_zscore(X_test_a1,col)\n"
   ]
  },
  {
   "cell_type": "code",
   "execution_count": 94,
   "metadata": {},
   "outputs": [],
   "source": [
    "target = 'attack_cat'"
   ]
  },
  {
   "cell_type": "code",
   "execution_count": 95,
   "metadata": {},
   "outputs": [
    {
     "data": {
      "text/plain": [
       "<matplotlib.axes._subplots.AxesSubplot at 0x8c27c57390>"
      ]
     },
     "execution_count": 95,
     "metadata": {},
     "output_type": "execute_result"
    },
    {
     "data": {
      "image/png": "[encoded data removed]",
      "text/plain": [
       "<Figure size 432x288 with 1 Axes>"
      ]
     },
     "metadata": {
      "needs_background": "light"
     },
     "output_type": "display_data"
    }
   ],
   "source": [
    "y_train_a1[target].value_counts().plot(kind = 'bar')"
   ]
  },
  {
   "cell_type": "code",
   "execution_count": 96,
   "metadata": {},
   "outputs": [],
   "source": [
    "y_train_a1 = pd.get_dummies(y_train_a1[target])"
   ]
  },
  {
   "cell_type": "code",
   "execution_count": 97,
   "metadata": {},
   "outputs": [],
   "source": [
    "y_test_a1 = test_df_a1_v2.loc[:, ['attack_cat']]"
   ]
  },
  {
   "cell_type": "code",
   "execution_count": 98,
   "metadata": {},
   "outputs": [],
   "source": [
    "y_test_a1_tf = pd.get_dummies(y_test_a1[target])"
   ]
  },
  {
   "cell_type": "code",
   "execution_count": 99,
   "metadata": {},
   "outputs": [
    {
     "data": {
      "text/plain": [
       "(175243, 41)"
      ]
     },
     "execution_count": 99,
     "metadata": {},
     "output_type": "execute_result"
    }
   ],
   "source": [
    "X_train_a1.shape"
   ]
  },
  {
   "cell_type": "code",
   "execution_count": 100,
   "metadata": {},
   "outputs": [
    {
     "data": {
      "text/plain": [
       "(175243, 10)"
      ]
     },
     "execution_count": 100,
     "metadata": {},
     "output_type": "execute_result"
    }
   ],
   "source": [
    "y_train_a1.shape"
   ]
  },
  {
   "cell_type": "code",
   "execution_count": 101,
   "metadata": {},
   "outputs": [
    {
     "data": {
      "text/plain": [
       "(82326, 41)"
      ]
     },
     "execution_count": 101,
     "metadata": {},
     "output_type": "execute_result"
    }
   ],
   "source": [
    "X_test_a1.shape"
   ]
  },
  {
   "cell_type": "code",
   "execution_count": 102,
   "metadata": {},
   "outputs": [
    {
     "data": {
      "text/plain": [
       "(82326, 10)"
      ]
     },
     "execution_count": 102,
     "metadata": {},
     "output_type": "execute_result"
    }
   ],
   "source": [
    "y_test_a1_tf.shape"
   ]
  },
  {
   "cell_type": "code",
   "execution_count": 103,
   "metadata": {
    "scrolled": true
   },
   "outputs": [
    {
     "name": "stdout",
     "output_type": "stream",
     "text": [
      "Train on 175243 samples, validate on 82326 samples\n",
      "Epoch 1/100\n",
      "175243/175243 - 8s - loss: 0.6323 - acc: 0.7612 - val_loss: 0.7187 - val_acc: 0.6845\n",
      "Epoch 2/100\n",
      "175243/175243 - 7s - loss: 0.5530 - acc: 0.7845 - val_loss: 0.6783 - val_acc: 0.7070\n",
      "Epoch 3/100\n",
      "175243/175243 - 8s - loss: 0.5354 - acc: 0.7903 - val_loss: 0.6715 - val_acc: 0.7151\n",
      "Epoch 4/100\n",
      "175243/175243 - 7s - loss: 0.5256 - acc: 0.7941 - val_loss: 0.6720 - val_acc: 0.7154\n",
      "Epoch 5/100\n",
      "175243/175243 - 7s - loss: 0.5184 - acc: 0.7953 - val_loss: 0.7188 - val_acc: 0.6915\n",
      "Epoch 6/100\n",
      "175243/175243 - 7s - loss: 0.5120 - acc: 0.7975 - val_loss: 0.7041 - val_acc: 0.6879\n",
      "Epoch 7/100\n",
      "175243/175243 - 7s - loss: 0.5070 - acc: 0.7986 - val_loss: 0.8010 - val_acc: 0.6652\n",
      "Epoch 8/100\n",
      "175243/175243 - 7s - loss: 0.5018 - acc: 0.8003 - val_loss: 0.7211 - val_acc: 0.6806\n",
      "Epoch 9/100\n",
      "175243/175243 - 8s - loss: 0.4983 - acc: 0.8009 - val_loss: 0.8184 - val_acc: 0.6616\n",
      "Epoch 10/100\n",
      "175243/175243 - 7s - loss: 0.4946 - acc: 0.8017 - val_loss: 0.9056 - val_acc: 0.6422\n",
      "Epoch 11/100\n",
      "175243/175243 - 8s - loss: 0.4924 - acc: 0.8026 - val_loss: 0.8008 - val_acc: 0.6641\n",
      "Epoch 12/100\n",
      "175243/175243 - 7s - loss: 0.4904 - acc: 0.8037 - val_loss: 0.7785 - val_acc: 0.6556\n",
      "Epoch 13/100\n",
      "175243/175243 - 8s - loss: 0.4877 - acc: 0.8043 - val_loss: 0.7660 - val_acc: 0.6681\n",
      "Epoch 00013: early stopping\n"
     ]
    }
   ],
   "source": [
    "import io\n",
    "import requests\n",
    "import os\n",
    "from tensorflow.keras.models import Sequential\n",
    "from tensorflow.keras.layers import Dense, Activation\n",
    "from tensorflow.keras.callbacks import EarlyStopping\n",
    "from tensorflow.keras.callbacks import ModelCheckpoint\n",
    "save_path = \"./dnn/\"\n",
    "\n",
    "model = Sequential()\n",
    "\n",
    "#Tuning Hyperparameters to achieve best model and to improve performance\n",
    "model.add(Dense(50, input_dim=X_train_a1.shape[1], activation='relu'))\n",
    "model.add(Dense(25,activation='relu'))\n",
    "model.add(Dense(15,activation='relu'))\n",
    "model.add(Dense(y_train_a1.shape[1],activation='softmax'))\n",
    "\n",
    "model.compile(loss='categorical_crossentropy', optimizer='adam', metrics=['accuracy'])\n",
    "\n",
    "monitor = EarlyStopping(monitor='val_loss', min_delta=1e-4, patience=10, verbose=2, mode='auto') \n",
    "\n",
    "checkpointer = ModelCheckpoint(filepath=\"dnn/network1.hdf5\", verbose=0, save_best_only=True) # save best model\n",
    "\n",
    "model.fit(X_train_a1, y_train_a1, validation_data=(X_test_a1,y_test_a1_tf), callbacks=[monitor], verbose=2, epochs=100)  \n",
    "\n",
    "model.load_weights('dnn/network1.hdf5') # load weights from best model\n",
    "# save entire network to HDF5 (save everything)\n",
    "#model.save(os.path.join(save_path,\"network1.hdf5\"))"
   ]
  },
  {
   "cell_type": "code",
   "execution_count": 104,
   "metadata": {},
   "outputs": [],
   "source": [
    "y_pred_a1 = model.predict(X_test_a1)"
   ]
  },
  {
   "cell_type": "code",
   "execution_count": 105,
   "metadata": {},
   "outputs": [
    {
     "name": "stdout",
     "output_type": "stream",
     "text": [
      "[4 4 4 ... 6 6 2]\n"
     ]
    }
   ],
   "source": [
    "y_pred_a1 = np.argmax(y_pred_a1,axis=1) # raw probabilities to choose class (highest probability)\n",
    "print(y_pred_a1)"
   ]
  },
  {
   "cell_type": "code",
   "execution_count": 106,
   "metadata": {},
   "outputs": [
    {
     "name": "stdout",
     "output_type": "stream",
     "text": [
      "[6 6 6 ... 6 6 6]\n"
     ]
    }
   ],
   "source": [
    "y_test_a1 = np.argmax(y_test_a1_tf.values, axis = 1)\n",
    "print(y_test_a1)"
   ]
  },
  {
   "cell_type": "code",
   "execution_count": 107,
   "metadata": {},
   "outputs": [
    {
     "name": "stdout",
     "output_type": "stream",
     "text": [
      "              precision    recall  f1-score   support\n",
      "\n",
      "           0       0.00      0.00      0.00       677\n",
      "           1       0.10      0.01      0.01       583\n",
      "           2       0.31      0.03      0.05      4089\n",
      "           3       0.54      0.92      0.68     11131\n",
      "           4       0.21      0.66      0.32      6061\n",
      "           5       0.98      0.79      0.87     18871\n",
      "           6       0.94      0.63      0.75     36997\n",
      "           7       0.66      0.69      0.68      3495\n",
      "           8       0.63      0.14      0.23       378\n",
      "           9       0.50      0.05      0.08        44\n",
      "\n",
      "    accuracy                           0.67     82326\n",
      "   macro avg       0.49      0.39      0.37     82326\n",
      "weighted avg       0.78      0.67      0.69     82326\n",
      "\n"
     ]
    }
   ],
   "source": [
    "print(metrics.classification_report(y_test_a1, y_pred_a1))"
   ]
  },
  {
   "cell_type": "code",
   "execution_count": 108,
   "metadata": {},
   "outputs": [
    {
     "name": "stdout",
     "output_type": "stream",
     "text": [
      "[[    0     0    23   606     0     0    48     0     0     0]\n",
      " [    0     3    24   532    16     1     1     6     0     0]\n",
      " [    0     8   109  3728   166    21    24    29     4     0]\n",
      " [   19     5    92 10237   648     3    92    30     5     0]\n",
      " [    0     0    50  1297  4005     9   472   227     1     0]\n",
      " [    0     1    13   493  2588 14897   865     8     4     2]\n",
      " [  449     6    31  1053 11120   188 23268   864    18     0]\n",
      " [    0     2     4   813   204    40     4  2428     0     0]\n",
      " [    0     4     0    60   144    22     2    92    54     0]\n",
      " [    0     0     1    32     6     2     1     0     0     2]]\n",
      "Plotting confusion matrix\n"
     ]
    },
    {
     "data": {
      "image/png": "[encoded data removed]",
      "text/plain": [
       "<Figure size 432x288 with 2 Axes>"
      ]
     },
     "metadata": {
      "needs_background": "light"
     },
     "output_type": "display_data"
    }
   ],
   "source": [
    "# Compute confusion matrix\n",
    "cm = confusion_matrix(y_test_a1, y_pred_a1)\n",
    "print(cm)\n",
    "\n",
    "\n",
    "print('Plotting confusion matrix')\n",
    "\n",
    "plt.figure()\n",
    "plot_confusion_matrix(cm, target)\n",
    "plt.show()"
   ]
  },
  {
   "cell_type": "markdown",
   "metadata": {},
   "source": [
    "### Top-10 Features"
   ]
  },
  {
   "cell_type": "code",
   "execution_count": 109,
   "metadata": {},
   "outputs": [],
   "source": [
    "import pandas as pd\n",
    "\n",
    "train_df_a2 = pd.read_csv('data/UNSW_NB15_training-set_csc215.csv')\n",
    "test_df_a2 = pd.read_csv('data/UNSW_NB15_test-set_csc215.csv')"
   ]
  },
  {
   "cell_type": "code",
   "execution_count": 110,
   "metadata": {},
   "outputs": [],
   "source": [
    "train_df_a2.drop(['id','service','attack_cat'], axis=1, inplace=True)\n",
    "test_df_a2.drop(['id','service','attack_cat'], axis=1, inplace=True)"
   ]
  },
  {
   "cell_type": "code",
   "execution_count": 111,
   "metadata": {},
   "outputs": [],
   "source": [
    "considered_list = ['tcp', 'udp', 'unas']"
   ]
  },
  {
   "cell_type": "code",
   "execution_count": 112,
   "metadata": {},
   "outputs": [],
   "source": [
    "def func_proto_encoding(column_value):\n",
    "    if column_value in considered_list:\n",
    "        return column_value\n",
    "    else:\n",
    "        return \"others\""
   ]
  },
  {
   "cell_type": "code",
   "execution_count": 113,
   "metadata": {},
   "outputs": [],
   "source": [
    "train_df_a2['proto'] = train_df_a2['proto'].apply(func_proto_encoding)\n",
    "\n",
    "test_df_a2['proto'] = test_df_a2['proto'].apply(func_proto_encoding)"
   ]
  },
  {
   "cell_type": "code",
   "execution_count": 114,
   "metadata": {},
   "outputs": [],
   "source": [
    "considered_state_list = ['INT', 'FIN', 'CON', 'REQ']\n",
    "\n",
    "train_df_a2_v1 = train_df_a2[train_df_a2['state'].isin(considered_state_list)]\n",
    "\n",
    "test_df_a2_v1 = test_df_a2[test_df_a2['state'].isin(considered_state_list)]"
   ]
  },
  {
   "cell_type": "code",
   "execution_count": 115,
   "metadata": {},
   "outputs": [],
   "source": [
    "encode_text_dummy(train_df_a2_v1,\"proto\")  \n",
    "encode_text_dummy(train_df_a2_v1,\"state\")\n",
    "\n",
    "encode_text_dummy(test_df_a2_v1,\"proto\")  \n",
    "encode_text_dummy(test_df_a2_v1,\"state\")"
   ]
  },
  {
   "cell_type": "code",
   "execution_count": 116,
   "metadata": {},
   "outputs": [],
   "source": [
    "correlation_list_a2 = train_df_a2_v1[train_df_a2_v1.columns[:]].corr()['label']\n",
    "\n",
    "correlation_list_a2 = correlation_list_a2.sort_values(ascending = False)"
   ]
  },
  {
   "cell_type": "code",
   "execution_count": 117,
   "metadata": {},
   "outputs": [],
   "source": [
    "correlation_list_a21 = correlation_list_a2[0:10]"
   ]
  },
  {
   "cell_type": "code",
   "execution_count": 118,
   "metadata": {},
   "outputs": [],
   "source": [
    "correlation_list_a21 = [col for col in correlation_list_a21.index]"
   ]
  },
  {
   "cell_type": "code",
   "execution_count": 119,
   "metadata": {},
   "outputs": [],
   "source": [
    "correlation_list_a22 = correlation_list_a2[10:]"
   ]
  },
  {
   "cell_type": "code",
   "execution_count": 120,
   "metadata": {},
   "outputs": [],
   "source": [
    "correlation_list_a22 = [col for col in correlation_list_a22.index]"
   ]
  },
  {
   "cell_type": "code",
   "execution_count": 121,
   "metadata": {},
   "outputs": [
    {
     "data": {
      "text/plain": [
       "['label',\n",
       " 'sttl',\n",
       " 'ct_state_ttl',\n",
       " 'state-INT',\n",
       " 'ct_dst_sport_ltm',\n",
       " 'rate',\n",
       " 'ct_src_dport_ltm',\n",
       " 'ct_dst_src_ltm',\n",
       " 'ct_src_ltm',\n",
       " 'ct_dst_ltm']"
      ]
     },
     "execution_count": 121,
     "metadata": {},
     "output_type": "execute_result"
    }
   ],
   "source": [
    "correlation_list_a21"
   ]
  },
  {
   "cell_type": "code",
   "execution_count": 122,
   "metadata": {},
   "outputs": [
    {
     "data": {
      "text/plain": [
       "['ct_srv_src',\n",
       " 'ct_srv_dst',\n",
       " 'proto-unas',\n",
       " 'sload',\n",
       " 'proto-udp',\n",
       " 'proto-others',\n",
       " 'ackdat',\n",
       " 'dttl',\n",
       " 'tcprtt',\n",
       " 'synack',\n",
       " 'dur',\n",
       " 'sbytes',\n",
       " 'ct_flw_http_mthd',\n",
       " 'trans_depth',\n",
       " 'sloss',\n",
       " 'sjit',\n",
       " 'smean',\n",
       " 'is_ftp_login',\n",
       " 'ct_ftp_cmd',\n",
       " 'response_body_len',\n",
       " 'dinpkt',\n",
       " 'state-REQ',\n",
       " 'spkts',\n",
       " 'djit',\n",
       " 'dbytes',\n",
       " 'dloss',\n",
       " 'dpkts',\n",
       " 'sinpkt',\n",
       " 'is_sm_ips_ports',\n",
       " 'dtcpb',\n",
       " 'stcpb',\n",
       " 'state-FIN',\n",
       " 'dwin',\n",
       " 'swin',\n",
       " 'proto-tcp',\n",
       " 'dmean',\n",
       " 'state-CON',\n",
       " 'dload']"
      ]
     },
     "execution_count": 122,
     "metadata": {},
     "output_type": "execute_result"
    }
   ],
   "source": [
    "correlation_list_a22"
   ]
  },
  {
   "cell_type": "code",
   "execution_count": 123,
   "metadata": {},
   "outputs": [],
   "source": [
    "train_df_a2_v2 = train_df_a2_v1.drop(correlation_list_a22, axis = 1)\n",
    "test_df_a2_v2 = test_df_a2_v1.drop(correlation_list_a22, axis = 1)"
   ]
  },
  {
   "cell_type": "code",
   "execution_count": 124,
   "metadata": {},
   "outputs": [],
   "source": [
    "X_train_a2 = train_df_a2_v2.drop(['label'], axis = 1)\n",
    "y_train_a2 = train_df_a2_v2.loc[:, ['label']]\n",
    "\n",
    "X_test_a2 = test_df_a2_v2.drop(['label'], axis = 1)\n",
    "y_test_a2 = test_df_a2_v2.loc[:, ['label']]\n"
   ]
  },
  {
   "cell_type": "code",
   "execution_count": 125,
   "metadata": {},
   "outputs": [],
   "source": [
    "X_train_a2 = X_train_a2.astype('float')\n",
    "X_test_a2 = X_test_a2.astype('float')"
   ]
  },
  {
   "cell_type": "code",
   "execution_count": 126,
   "metadata": {},
   "outputs": [],
   "source": [
    "for col in X_train_a2.columns:\n",
    "        encode_numeric_zscore(X_train_a2,col)\n",
    "\n",
    "for col in X_test_a2.columns:\n",
    "        encode_numeric_zscore(X_test_a2,col)\n"
   ]
  },
  {
   "cell_type": "code",
   "execution_count": 127,
   "metadata": {},
   "outputs": [],
   "source": [
    "target = 'label'"
   ]
  },
  {
   "cell_type": "code",
   "execution_count": 128,
   "metadata": {},
   "outputs": [],
   "source": [
    "y_train_a2 = pd.get_dummies(y_train_a2[target])"
   ]
  },
  {
   "cell_type": "code",
   "execution_count": 129,
   "metadata": {},
   "outputs": [],
   "source": [
    "y_test_a2 = test_df_a2_v2.loc[:, ['label']]"
   ]
  },
  {
   "cell_type": "code",
   "execution_count": 130,
   "metadata": {},
   "outputs": [],
   "source": [
    "y_test_a2_tf = pd.get_dummies(y_test_a2[target])"
   ]
  },
  {
   "cell_type": "code",
   "execution_count": 131,
   "metadata": {
    "scrolled": true
   },
   "outputs": [
    {
     "name": "stdout",
     "output_type": "stream",
     "text": [
      "Train on 175243 samples, validate on 82326 samples\n",
      "Epoch 1/100\n",
      "175243/175243 - 7s - loss: 0.1677 - acc: 0.9290 - val_loss: 0.3755 - val_acc: 0.8414\n",
      "Epoch 2/100\n",
      "175243/175243 - 7s - loss: 0.1503 - acc: 0.9329 - val_loss: 0.3613 - val_acc: 0.8453\n",
      "Epoch 3/100\n",
      "175243/175243 - 7s - loss: 0.1470 - acc: 0.9336 - val_loss: 0.3762 - val_acc: 0.8207\n",
      "Epoch 4/100\n",
      "175243/175243 - 7s - loss: 0.1456 - acc: 0.9342 - val_loss: 0.3564 - val_acc: 0.8110\n",
      "Epoch 5/100\n",
      "175243/175243 - 8s - loss: 0.1441 - acc: 0.9343 - val_loss: 0.4111 - val_acc: 0.8087\n",
      "Epoch 6/100\n",
      "175243/175243 - 7s - loss: 0.1432 - acc: 0.9351 - val_loss: 0.3585 - val_acc: 0.8091\n",
      "Epoch 7/100\n",
      "175243/175243 - 7s - loss: 0.1425 - acc: 0.9353 - val_loss: 0.3618 - val_acc: 0.8170\n",
      "Epoch 8/100\n",
      "175243/175243 - 7s - loss: 0.1420 - acc: 0.9357 - val_loss: 0.3769 - val_acc: 0.8271\n",
      "Epoch 9/100\n",
      "175243/175243 - 8s - loss: 0.1415 - acc: 0.9361 - val_loss: 0.3785 - val_acc: 0.8123\n",
      "Epoch 10/100\n",
      "175243/175243 - 7s - loss: 0.1408 - acc: 0.9362 - val_loss: 0.3527 - val_acc: 0.8134\n",
      "Epoch 11/100\n",
      "175243/175243 - 7s - loss: 0.1405 - acc: 0.9362 - val_loss: 0.3781 - val_acc: 0.8308\n",
      "Epoch 12/100\n",
      "175243/175243 - 7s - loss: 0.1399 - acc: 0.9366 - val_loss: 0.3613 - val_acc: 0.8151\n",
      "Epoch 13/100\n",
      "175243/175243 - 7s - loss: 0.1399 - acc: 0.9367 - val_loss: 0.4026 - val_acc: 0.8191\n",
      "Epoch 14/100\n",
      "175243/175243 - 7s - loss: 0.1395 - acc: 0.9365 - val_loss: 0.3741 - val_acc: 0.8265\n",
      "Epoch 15/100\n",
      "175243/175243 - 7s - loss: 0.1391 - acc: 0.9368 - val_loss: 0.3838 - val_acc: 0.8086\n",
      "Epoch 16/100\n",
      "175243/175243 - 7s - loss: 0.1389 - acc: 0.9371 - val_loss: 0.3613 - val_acc: 0.8130\n",
      "Epoch 17/100\n",
      "175243/175243 - 7s - loss: 0.1388 - acc: 0.9372 - val_loss: 0.4309 - val_acc: 0.8274\n",
      "Epoch 18/100\n",
      "175243/175243 - 7s - loss: 0.1383 - acc: 0.9373 - val_loss: 0.4026 - val_acc: 0.8126\n",
      "Epoch 19/100\n",
      "175243/175243 - 7s - loss: 0.1382 - acc: 0.9371 - val_loss: 0.3754 - val_acc: 0.8053\n",
      "Epoch 20/100\n",
      "175243/175243 - 7s - loss: 0.1381 - acc: 0.9370 - val_loss: 0.4400 - val_acc: 0.8003\n",
      "Epoch 00020: early stopping\n"
     ]
    }
   ],
   "source": [
    "import io\n",
    "import requests\n",
    "import os\n",
    "from tensorflow.keras.models import Sequential\n",
    "from tensorflow.keras.layers import Dense, Activation\n",
    "from tensorflow.keras.callbacks import EarlyStopping\n",
    "from tensorflow.keras.callbacks import ModelCheckpoint\n",
    "save_path = \"./dnn/\"\n",
    "\n",
    "model = Sequential()\n",
    "\n",
    "#Tuning Hyperparameters to achieve best model and to improve performance\n",
    "model.add(Dense(50, input_dim=X_train_a2.shape[1], activation='relu'))\n",
    "model.add(Dense(25,activation='relu'))\n",
    "model.add(Dense(15,activation='relu'))\n",
    "model.add(Dense(y_train_a2.shape[1],activation='softmax'))\n",
    "\n",
    "model.compile(loss='categorical_crossentropy', optimizer='adam', metrics=['accuracy'])\n",
    "\n",
    "monitor = EarlyStopping(monitor='val_loss', min_delta=1e-4, patience=10, verbose=2, mode='auto') \n",
    "\n",
    "checkpointer = ModelCheckpoint(filepath=\"dnn/network2.hdf5\", verbose=0, save_best_only=True) # save best model\n",
    "\n",
    "model.fit(X_train_a2, y_train_a2, validation_data=(X_test_a2,y_test_a2_tf), callbacks=[monitor], verbose=2, epochs=100)  \n",
    "\n",
    "model.load_weights('dnn/network2.hdf5') # load weights from best model\n",
    "# save entire network to HDF5 (save everything)\n",
    "#model.save(os.path.join(save_path,\"network2.hdf5\"))"
   ]
  },
  {
   "cell_type": "code",
   "execution_count": 132,
   "metadata": {},
   "outputs": [],
   "source": [
    "y_pred_a2 = model.predict(X_test_a2)"
   ]
  },
  {
   "cell_type": "code",
   "execution_count": 133,
   "metadata": {},
   "outputs": [
    {
     "name": "stdout",
     "output_type": "stream",
     "text": [
      "[1 1 1 ... 1 1 1]\n"
     ]
    }
   ],
   "source": [
    "y_pred_a2 = np.argmax(y_pred_a2,axis=1) # raw probabilities to choose class (highest probability)\n",
    "print(y_pred_a2)"
   ]
  },
  {
   "cell_type": "code",
   "execution_count": 134,
   "metadata": {},
   "outputs": [
    {
     "name": "stdout",
     "output_type": "stream",
     "text": [
      "[0 0 0 ... 0 0 0]\n"
     ]
    }
   ],
   "source": [
    "y_test_a2 = np.argmax(y_test_a2_tf.values, axis = 1)\n",
    "print(y_test_a2)"
   ]
  },
  {
   "cell_type": "code",
   "execution_count": 135,
   "metadata": {},
   "outputs": [
    {
     "name": "stdout",
     "output_type": "stream",
     "text": [
      "              precision    recall  f1-score   support\n",
      "\n",
      "           0       1.00      0.54      0.70     36997\n",
      "           1       0.73      1.00      0.84     45329\n",
      "\n",
      "    accuracy                           0.79     82326\n",
      "   macro avg       0.86      0.77      0.77     82326\n",
      "weighted avg       0.85      0.79      0.78     82326\n",
      "\n"
     ]
    }
   ],
   "source": [
    "print(metrics.classification_report(y_test_a2, y_pred_a2))"
   ]
  },
  {
   "cell_type": "code",
   "execution_count": 136,
   "metadata": {},
   "outputs": [
    {
     "name": "stdout",
     "output_type": "stream",
     "text": [
      "[[20094 16903]\n",
      " [   90 45239]]\n",
      "Plotting confusion matrix\n"
     ]
    },
    {
     "data": {
      "image/png": "[encoded data removed]",
      "text/plain": [
       "<Figure size 432x288 with 2 Axes>"
      ]
     },
     "metadata": {
      "needs_background": "light"
     },
     "output_type": "display_data"
    }
   ],
   "source": [
    "# Compute confusion matrix\n",
    "cm = confusion_matrix(y_test_a2, y_pred_a2)\n",
    "print(cm)\n",
    "\n",
    "\n",
    "print('Plotting confusion matrix')\n",
    "\n",
    "plt.figure()\n",
    "plot_confusion_matrix(cm, [0,1])\n",
    "plt.show()"
   ]
  },
  {
   "cell_type": "code",
   "execution_count": 137,
   "metadata": {},
   "outputs": [
    {
     "data": {
      "image/png": "[encoded data removed]",
      "text/plain": [
       "<Figure size 432x288 with 1 Axes>"
      ]
     },
     "metadata": {
      "needs_background": "light"
     },
     "output_type": "display_data"
    }
   ],
   "source": [
    "plot_roc(y_pred_a2,y_test_a2)"
   ]
  }
 ],
 "metadata": {
  "kernelspec": {
   "display_name": "Python 3",
   "language": "python",
   "name": "python3"
  },
  "language_info": {
   "codemirror_mode": {
    "name": "ipython",
    "version": 3
   },
   "file_extension": ".py",
   "mimetype": "text/x-python",
   "name": "python",
   "nbconvert_exporter": "python",
   "pygments_lexer": "ipython3",
   "version": "3.7.3"
  }
 },
 "nbformat": 4,
 "nbformat_minor": 2
}
